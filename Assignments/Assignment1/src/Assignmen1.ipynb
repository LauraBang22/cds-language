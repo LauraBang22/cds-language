{
 "cells": [
  {
   "cell_type": "markdown",
   "metadata": {},
   "source": [
    "# Assignment 1 - Extracting linguistic features using spaCy"
   ]
  },
  {
   "cell_type": "markdown",
   "metadata": {},
   "source": [
    "First we install and import the relevant packages:"
   ]
  },
  {
   "cell_type": "code",
   "execution_count": 3,
   "metadata": {},
   "outputs": [
    {
     "name": "stderr",
     "output_type": "stream",
     "text": [
      "/tmp/ipykernel_1599/2223173363.py:2: DeprecationWarning: \n",
      "Pyarrow will become a required dependency of pandas in the next major release of pandas (pandas 3.0),\n",
      "(to allow more performant data types, such as the Arrow string type, and better interoperability with other libraries)\n",
      "but was not found to be installed on your system.\n",
      "If this would cause problems for you,\n",
      "please provide us feedback at https://github.com/pandas-dev/pandas/issues/54466\n",
      "        \n",
      "  import pandas as pd\n"
     ]
    }
   ],
   "source": [
    "import spacy\n",
    "import pandas as pd\n",
    "import os"
   ]
  },
  {
   "cell_type": "markdown",
   "metadata": {},
   "source": [
    "Then we download a particular model from spaCy to work with:"
   ]
  },
  {
   "cell_type": "code",
   "execution_count": 6,
   "metadata": {},
   "outputs": [],
   "source": [
    "nlp = spacy.load(\"en_core_web_md\")"
   ]
  },
  {
   "cell_type": "markdown",
   "metadata": {},
   "source": [
    "### 1. Loop over each text file in the folder called \"in\""
   ]
  },
  {
   "cell_type": "code",
   "execution_count": 13,
   "metadata": {},
   "outputs": [],
   "source": [
    "main_folder_path = (\"../in/USEcorpus\")\n",
    "\n",
    "for folder in os.listdir(main_folder_path):\n",
    "    folder_path = os.path.join(main_folder_path, folder)\n",
    "    for textfile in os.listdir(folder_path):\n",
    "        textfile_path = os.path.join(folder_path, textfile)"
   ]
  },
  {
   "cell_type": "code",
   "execution_count": 47,
   "metadata": {},
   "outputs": [],
   "source": [
    "with open(textfile_path, \"r\", encoding='utf8') as f:\n",
    "    text = f.read()"
   ]
  },
  {
   "cell_type": "code",
   "execution_count": 48,
   "metadata": {},
   "outputs": [
    {
     "name": "stdout",
     "output_type": "stream",
     "text": [
      "<doc.id=1533.b5>\n",
      "<title> Lily - a woman dependent upon men and society </title>\n",
      "Nancy Walker claims that Edna in The Awakening \" is controlled by her own emotions, not by men or society\" (256) The character Lily in the novel The House of Mirth is almost the complete opposite of Edna. She is calculating and knows what she is doing, but at the same time she is dependent upon, and thereby controlled by, society and men. She knows what is expected of her and behaves according to that, using her eloquence and beauty to get what she wants, that is wealth and admiration. Lily is controlled by men and society for the following reasons: To begin with, Lily's upbringing has taught her to hate dinginess and crave wealth and also how to get what she wants, which are the features that will pave way for dependency. Secondly, since she has no fortune of her own she needs to ensnare a man whom she can marry in order to keep up her luxurious lifestyle, which will make her dependent upon, and thereby controlled by them. Thirdly, Lily is dependent upon society since it means everything to her. She needs the admiration of men and women in her presence in order to feel that she is someone.\n",
      "\tTo begin with, Lily is brought up in a world of luxury with a mother who hates dinginess and lives as if she is richer than she really is. She has \"been brought up in the faith that, whatever it cost, one must have a good cook, and be what Mrs. Bart called 'decently dressed'\" (Wharton 1993: 30). Lily needs expensive dresses and hats so she can show her beauty in society. She has the same opinion as her mother about keeping up appearances and applies this way of thinking for example to her choice of hotel where to stay for the winter period: \"The hotel being on the edge of a fashionable neighbourhood, the price of the few square feet she was to occupy was considerably in excess of her means; but she found a justification for her dislike of poorer quarters in the argument that, at this particular juncture, it was of the utmost importance to keep up a show of prosperity.\" (Wharton 1993: p 246) When comparing Edna and Lily, they have been raised in almost the same way, but Edna, according to Nancy Walker \"is denying what she has been raised to believe\" (Walker: p 253). Lily does the opposite, she imbibes what her mother teaches her and makes those values into her own, Gerty once commented on her need of luxury in a conversation with Selden: \"You know how dependent she has always been on ease and luxury -how she has hated what was shabby and ugly and uncomfortable. She can't help it-she was brought up with those ideas, and has never been able to find her way out of them.\" (Wharton 1993: 270-271) Lily's upbringing does not only give her a taste for refinement and wealth and make her scared of poverty and dinginess, but it also teaches her how to use her skills to get what she wants from men. Her mother has for example taught her how to charm her father: \"She leaned confidently toward her father: he seldom refused her anything, and Mrs Bart had taught her to plead with him when her own entreatises failed.\" (Wharton 1993: 32) So, a craving for money and luxury is established already in Lily's childhood and is also nurtured through her life with rich people. As a child she also learns from her mother how she is to get what she wants, that is, by manipulating and snaring men. Through this lifestyle a 19th century woman will, if she doesn't inherit money, become dependent upon men and also the society which demands refinement and wealth.\n",
      "\tSecondly, since Lily prefers a costly lifestyle she knows that she is dependent upon men in order to support herself, that is, she needs to marry a wealthy man. The fact that Lily is very calculative when she considers the persons whose wealth she might marry, shows how dependent she is of them. For example, when she sets her mind on ensnaring Mr Percy Gryce she advances very systematically. Lily knows that Mr Gryce's main interest is his Americana, she uses Selden to regain more knowledge of them and then she pretends to bump into Mr Gryce on the train and listens to his boring talk. She follows up this initial encounter at Bellomont and this is where we learn what she thinks of him and also how women of her class and time were thinking: \"She had been bored all the afternoon by Percy Gryce - the mere thought seemed to waken an echo of his droning voice - but she couldn't ignore him on the morrow, she must follow up her success, must submit to more boredom, must be ready with fresh compliances and adaptabilities, and all on the bare chance that he might ultimately decide to do her the honour of boring her for life\" (Wharton 1993: 25) Lily never considers marrying out of love, since only love cannot provide her with the necessary means to keep up her lifestyle. She is probably in love with Selden, but her emotions for him does not make her give up every thought of a rich husband. A few times her emotions have hindered her from reaching her goals, the best example is perhaps when Lily first talks with Selden and then takes a walk with him, instead of Mr Gryce, as she had promised to. Perhaps she throws away her chance to a rich marriage due to her interest in Selden and she comments upon it herself: \"While her friend reproached her for missing the opportunity to eclipse her rivals, she was once more battling with imagination with the mounting tide of indebtedness from which she had so nearly escaped. What wind of folly had driven her out again on those dark seas?\" (Wharton 1993: 77) That wind of folly was perhaps love, but she is far to calculative and understanding of her situation to follow her emotions. Instead she starts to think of new ways to escape poverty, namely by letting Mr Gus Trenor invest money for her. She cannot do this herself, both because she isn't familiar with financial matters and because women were not permitted to hhave an active part in business life, so she has to let a man do it for her. Lily is now forced to be nice and kind to a man who she does not like at all, but she is willing to do it because her desire for money is stronger than her reluctance for him, as is shown on page 85: \"Even the immediate one [demand that life makes] of letting Trenor, as they drove homeward, lean a little nearer and rest his hand reassuringly on hers, cost her only a momentary shiver of reluctance.\" And in this moment, she is still calculating, as is shown a few lines further down: \"It was part of the game to make him feel that her appeal had been an uncalculated impulse, provoked by the liking he inspired [...]\" (Wharton 1993: 85) So, once more she has set her emotions aside and adapted to the situation, allowing herself to be controlled by a man in order to gain wealth. She behaves in the way that is expected of her, putting her own emotions aside and adapting to a new situation, but at the same time she is somewhat in controll, since all the things she does serves her own purposes.\n",
      "\tThirdly, Lily is dependent upon society since it means everything to her. The key into that circle in society where she wants to belong iss beauty. Since she has this feature \"these people whom she had ridiculed and yet envied were glad to make a place for her in the charmed circle about which all her desires revolved. They were not as brutal and self-engrossed as she had fancied- or rather, since it would no longer be necessary to flatter and humour them, that side of their nature became less conspicuous. (Wharton 1993: 50) Lily changes her mind about the persons in the rich world when she becomes a part of that world herself. This can also be seen a little further down on the same page: \"They were lords of the only world she cared for, and they were ready to join her to their ranks and let her lord it with them. Already she felt within her a stealing allegiance to their standards, an acceptance of their limitations, a disbelief in the things they did not believe in, a contemptuous pity for the people who were not able to live as they lived\" (Wharton 1993: 50) She adapts once more and behaves as a woman is supposed to behave. By letting this society become her life she becomes dependent upon them, because without them she has no life. Lily also yearns for the admiration of men and women in her presence in order to feel that she is someone. She knows that a women in her position will be judged by her beauty, and since she knows that she is very attractive she craves for admiration from everybody. Lily \"cared less for the quality of the admiration received than for its quantity\" (Wharton 1993: 136) She wants to be the centre of her world, which can be seen on page 60: \"All her plans for the day had been built on the assumption that it was to see her [italics mine] that Selden had come to Bellomont.\" An example that shows how dependent Lily is of society is her behaviour when she has been excluded from it and strives to regain her lost place among those she knows how to interact with. Lily cannot start a new life since her upbringing has taught her to crave wealth and hate dinginess, and she cannot live without the admiring looks from those \"that matter\" in society. The only way of life that fulfils and where she knows how to act is the one that she is no longer part of. In an attempt to recover her lost position in society she wants to marry Mr Rosedale, but finds that he is no longer interested of marrying her, since she no longer has a role in the society he wishes to be part of. Lily finds that she cannot go back to her old lifestyle in any way, so she ends her life, consciously or not, in a suitable, lady-like way, by committing suicide when the problems grew to heavy for hear to bear. This shows very clearly how dependent she is upon society, since she can not go on living and not being a part of the rich society. \n",
      "\tIn conclusion, Lily's upbringing is what has caused her appetite for wealth and fame - she has learned to hate dinginess and strive for money and a polished lifestyle. She has been provided with the right tool to succeed in the society she wants to be a part of, namely her beauty and she is well aware of how people in her presence are affected by it and she uses it in a very calculative manner in order to try to get what she wants, that is money and admiration. This hollow life has made her dependent upon society as a mean by which she can define herself and she has also become dependent upon men, since the only way for her to gain wealth is by marrying a rich man. Lily does not consider marrying for love, marriage seems to be only a tool to obtain wealth, a tool to serve her purposes. She can put up with being bored the rest of her life if she has enough glamour and money. Lily's dependence of society can also be seen in her behaviour when she has been excluded from it- as an outcast she does not know how to live, and instead of trying to cope with her new life she tries to regain her lost place in society. Her values are those of a 19th century woman, her behaviour in order to achieve her goals are so too and she adapts in order to fit into the society everyone longs to be a part of. The bottom line is that Lily craves for wealth, she also needs money to be able to cling to society and in order to get that she considers marrying for money - the only way she knows to get wealthy. Lily is indeed a woman of her time.\n",
      "\n",
      "Walker, Nancy: Feminist or Naturalist? In: The Awakening by Chopin, Kate,1994: 2nd ed. \t\tW.W. Norton & Company Inc.\n",
      "Wharton, Edith, 1993:The House of Mirth Penguin Books Ltd\n",
      "</doc>\n"
     ]
    }
   ],
   "source": [
    "print(text)"
   ]
  },
  {
   "cell_type": "markdown",
   "metadata": {},
   "source": [
    "### 2. Extract the following information:\n",
    "- Relative frequency of Nouns, Verbs, Adjective, and Adverbs per 10,000 words\n",
    "- Total number of unique PER, LOC, ORGS"
   ]
  },
  {
   "cell_type": "code",
   "execution_count": 16,
   "metadata": {},
   "outputs": [],
   "source": [
    "doc = nlp(text)"
   ]
  },
  {
   "cell_type": "code",
   "execution_count": 37,
   "metadata": {},
   "outputs": [],
   "source": [
    "noun_count = 0\n",
    "verb_count = 0\n",
    "adj_count = 0\n",
    "adv_count = 0\n",
    "\n",
    "for token in doc:\n",
    "    if token.pos_ == \"NOUN\":\n",
    "        noun_count += 1\n",
    "    elif token.pos_ == \"VERB\":\n",
    "        verb_count += 1\n",
    "    elif token.pos_ == \"ADJ\":\n",
    "        adj_count += 1\n",
    "    elif token.pos_ == \"ADV\":\n",
    "        adv_count += 1\n"
   ]
  },
  {
   "cell_type": "code",
   "execution_count": 38,
   "metadata": {},
   "outputs": [
    {
     "data": {
      "text/plain": [
       "364"
      ]
     },
     "execution_count": 38,
     "metadata": {},
     "output_type": "execute_result"
    }
   ],
   "source": [
    "noun_count"
   ]
  },
  {
   "cell_type": "code",
   "execution_count": 39,
   "metadata": {},
   "outputs": [
    {
     "data": {
      "text/plain": [
       "293"
      ]
     },
     "execution_count": 39,
     "metadata": {},
     "output_type": "execute_result"
    }
   ],
   "source": [
    "verb_count"
   ]
  },
  {
   "cell_type": "code",
   "execution_count": 40,
   "metadata": {},
   "outputs": [
    {
     "data": {
      "text/plain": [
       "117"
      ]
     },
     "execution_count": 40,
     "metadata": {},
     "output_type": "execute_result"
    }
   ],
   "source": [
    "adj_count"
   ]
  },
  {
   "cell_type": "code",
   "execution_count": 41,
   "metadata": {},
   "outputs": [
    {
     "data": {
      "text/plain": [
       "103"
      ]
     },
     "execution_count": 41,
     "metadata": {},
     "output_type": "execute_result"
    }
   ],
   "source": [
    "adv_count"
   ]
  },
  {
   "cell_type": "code",
   "execution_count": 42,
   "metadata": {},
   "outputs": [
    {
     "data": {
      "text/plain": [
       "1489.97"
      ]
     },
     "execution_count": 42,
     "metadata": {},
     "output_type": "execute_result"
    }
   ],
   "source": [
    "relative_freq_noun = (noun_count/len(doc)) * 10000\n",
    "\n",
    "round(relative_freq_noun, 2)"
   ]
  },
  {
   "cell_type": "code",
   "execution_count": 43,
   "metadata": {},
   "outputs": [
    {
     "data": {
      "text/plain": [
       "1199.35"
      ]
     },
     "execution_count": 43,
     "metadata": {},
     "output_type": "execute_result"
    }
   ],
   "source": [
    "relative_freq_verb = (verb_count/len(doc)) * 10000\n",
    "\n",
    "round(relative_freq_verb, 2)"
   ]
  },
  {
   "cell_type": "code",
   "execution_count": 44,
   "metadata": {},
   "outputs": [
    {
     "data": {
      "text/plain": [
       "478.92"
      ]
     },
     "execution_count": 44,
     "metadata": {},
     "output_type": "execute_result"
    }
   ],
   "source": [
    "relative_freq_adj = (adj_count/len(doc)) * 10000\n",
    "\n",
    "round(relative_freq_adj, 2)"
   ]
  },
  {
   "cell_type": "code",
   "execution_count": 46,
   "metadata": {},
   "outputs": [
    {
     "data": {
      "text/plain": [
       "421.61"
      ]
     },
     "execution_count": 46,
     "metadata": {},
     "output_type": "execute_result"
    }
   ],
   "source": [
    "relative_freq_adv = (adv_count/len(doc)) * 10000\n",
    "\n",
    "round(relative_freq_adv, 2)"
   ]
  }
 ],
 "metadata": {
  "kernelspec": {
   "display_name": "Python 3",
   "language": "python",
   "name": "python3"
  },
  "language_info": {
   "codemirror_mode": {
    "name": "ipython",
    "version": 3
   },
   "file_extension": ".py",
   "mimetype": "text/x-python",
   "name": "python",
   "nbconvert_exporter": "python",
   "pygments_lexer": "ipython3",
   "version": "3.10.12"
  }
 },
 "nbformat": 4,
 "nbformat_minor": 2
}
