{
 "cells": [
  {
   "cell_type": "markdown",
   "metadata": {},
   "source": [
    "# Assignment 3"
   ]
  },
  {
   "cell_type": "code",
   "execution_count": 2,
   "metadata": {},
   "outputs": [
    {
     "name": "stderr",
     "output_type": "stream",
     "text": [
      "2024-03-19 12:18:23.868537: I external/local_tsl/tsl/cuda/cudart_stub.cc:32] Could not find cuda drivers on your machine, GPU will not be used.\n",
      "2024-03-19 12:18:23.873128: I external/local_tsl/tsl/cuda/cudart_stub.cc:32] Could not find cuda drivers on your machine, GPU will not be used.\n",
      "2024-03-19 12:18:23.925872: I tensorflow/core/platform/cpu_feature_guard.cc:210] This TensorFlow binary is optimized to use available CPU instructions in performance-critical operations.\n",
      "To enable the following instructions: AVX2 AVX512F FMA, in other operations, rebuild TensorFlow with the appropriate compiler flags.\n",
      "2024-03-19 12:18:24.871145: W tensorflow/compiler/tf2tensorrt/utils/py_utils.cc:38] TF-TRT Warning: Could not find TensorRT\n"
     ]
    }
   ],
   "source": [
    "import os\n",
    "import sys\n",
    "sys.path.append(\"..\")\n",
    "\n",
    "# generic tools\n",
    "import numpy as np\n",
    "import pandas as pd\n",
    "\n",
    "# tools from sklearn\n",
    "from sklearn.datasets import fetch_openml\n",
    "from sklearn.preprocessing import LabelBinarizer\n",
    "from sklearn.metrics import classification_report\n",
    "from sklearn.model_selection import train_test_split\n",
    "\n",
    "# tools from tensorflow\n",
    "import tensorflow as tf\n",
    "from tensorflow.keras.models import Sequential\n",
    "from tensorflow.keras.layers import Dense\n",
    "from tensorflow.keras.optimizers import SGD\n",
    "from tensorflow.keras import backend as K\n",
    "from tensorflow.keras.utils import plot_model\n",
    "\n",
    "# matplotlib\n",
    "import matplotlib.pyplot as plt"
   ]
  },
  {
   "cell_type": "code",
   "execution_count": 3,
   "metadata": {},
   "outputs": [],
   "source": [
    "filename = os.path.join(\"..\", \"in\", \"Spotify Million Song Dataset_exported.csv\")\n",
    "\n",
    "data = pd.read_csv(filename, index_col=0)"
   ]
  },
  {
   "cell_type": "code",
   "execution_count": 17,
   "metadata": {},
   "outputs": [
    {
     "data": {
      "text/plain": [
       "artist\n",
       "ABBA            Look at her face, it's a wonderful face  \\nAnd...\n",
       "ABBA            Take it easy with me, please  \\nTouch me gentl...\n",
       "ABBA            I'll never know why I had to go  \\nWhy I had t...\n",
       "ABBA            Making somebody happy is a question of give an...\n",
       "ABBA            Making somebody happy is a question of give an...\n",
       "                                      ...                        \n",
       "Ziggy Marley    Irie days come on play  \\nLet the angels fly l...\n",
       "Ziggy Marley    Power to the workers  \\nMore power  \\nPower to...\n",
       "Zwan            all you need  \\nis something i'll believe  \\nf...\n",
       "Zwan            northern star  \\nam i frightened  \\nwhere can ...\n",
       "Zwan            come in  \\nmake yourself at home  \\ni'm a bit ...\n",
       "Name: text, Length: 57650, dtype: object"
      ]
     },
     "execution_count": 17,
     "metadata": {},
     "output_type": "execute_result"
    }
   ],
   "source": [
    "data.text"
   ]
  },
  {
   "cell_type": "code",
   "execution_count": 4,
   "metadata": {},
   "outputs": [
    {
     "name": "stdout",
     "output_type": "stream",
     "text": [
      "[==================================================] 100.0% 66.0/66.0MB downloaded\n"
     ]
    }
   ],
   "source": [
    "import gensim.downloader as api\n",
    "model = api.load(\"glove-wiki-gigaword-50\")\n"
   ]
  },
  {
   "cell_type": "code",
   "execution_count": 24,
   "metadata": {},
   "outputs": [
    {
     "data": {
      "text/plain": [
       "([('sadness', 0.804125964641571),\n",
       "  ('passion', 0.7860099077224731),\n",
       "  ('sorrow', 0.7810678482055664),\n",
       "  ('delight', 0.7686560153961182),\n",
       "  ('happiness', 0.7658459544181824),\n",
       "  ('grief', 0.7552624344825745),\n",
       "  ('pride', 0.752964973449707),\n",
       "  ('tears', 0.7461303472518921),\n",
       "  ('love', 0.7359328866004944),\n",
       "  ('affection', 0.7240350842475891)],\n",
       " [('sadness', 0.804125964641571),\n",
       "  ('passion', 0.7860099077224731),\n",
       "  ('sorrow', 0.7810678482055664),\n",
       "  ('delight', 0.7686560153961182),\n",
       "  ('happiness', 0.7658459544181824),\n",
       "  ('grief', 0.7552624344825745),\n",
       "  ('pride', 0.752964973449707),\n",
       "  ('tears', 0.7461303472518921),\n",
       "  ('love', 0.7359328866004944),\n",
       "  ('affection', 0.7240350842475891)])"
      ]
     },
     "execution_count": 24,
     "metadata": {},
     "output_type": "execute_result"
    }
   ],
   "source": [
    "most_similar = model.most_similar('joy', topn=10)\n",
    "\n",
    "most_similar,"
   ]
  },
  {
   "cell_type": "code",
   "execution_count": 16,
   "metadata": {},
   "outputs": [
    {
     "data": {
      "text/html": [
       "<div>\n",
       "<style scoped>\n",
       "    .dataframe tbody tr th:only-of-type {\n",
       "        vertical-align: middle;\n",
       "    }\n",
       "\n",
       "    .dataframe tbody tr th {\n",
       "        vertical-align: top;\n",
       "    }\n",
       "\n",
       "    .dataframe thead th {\n",
       "        text-align: right;\n",
       "    }\n",
       "</style>\n",
       "<table border=\"1\" class=\"dataframe\">\n",
       "  <thead>\n",
       "    <tr style=\"text-align: right;\">\n",
       "      <th></th>\n",
       "      <th>song</th>\n",
       "      <th>link</th>\n",
       "      <th>text</th>\n",
       "    </tr>\n",
       "    <tr>\n",
       "      <th>artist</th>\n",
       "      <th></th>\n",
       "      <th></th>\n",
       "      <th></th>\n",
       "    </tr>\n",
       "  </thead>\n",
       "  <tbody>\n",
       "    <tr>\n",
       "      <th>ABBA</th>\n",
       "      <td>Ahe's My Kind Of Girl</td>\n",
       "      <td>/a/abba/ahes+my+kind+of+girl_20598417.html</td>\n",
       "      <td>Look at her face, it's a wonderful face  \\nAnd...</td>\n",
       "    </tr>\n",
       "    <tr>\n",
       "      <th>ABBA</th>\n",
       "      <td>Andante, Andante</td>\n",
       "      <td>/a/abba/andante+andante_20002708.html</td>\n",
       "      <td>Take it easy with me, please  \\nTouch me gentl...</td>\n",
       "    </tr>\n",
       "    <tr>\n",
       "      <th>ABBA</th>\n",
       "      <td>As Good As New</td>\n",
       "      <td>/a/abba/as+good+as+new_20003033.html</td>\n",
       "      <td>I'll never know why I had to go  \\nWhy I had t...</td>\n",
       "    </tr>\n",
       "    <tr>\n",
       "      <th>ABBA</th>\n",
       "      <td>Bang</td>\n",
       "      <td>/a/abba/bang_20598415.html</td>\n",
       "      <td>Making somebody happy is a question of give an...</td>\n",
       "    </tr>\n",
       "    <tr>\n",
       "      <th>ABBA</th>\n",
       "      <td>Bang-A-Boomerang</td>\n",
       "      <td>/a/abba/bang+a+boomerang_20002668.html</td>\n",
       "      <td>Making somebody happy is a question of give an...</td>\n",
       "    </tr>\n",
       "    <tr>\n",
       "      <th>...</th>\n",
       "      <td>...</td>\n",
       "      <td>...</td>\n",
       "      <td>...</td>\n",
       "    </tr>\n",
       "    <tr>\n",
       "      <th>ABBA</th>\n",
       "      <td>What About Livingstone</td>\n",
       "      <td>/a/abba/what+about+livingstone_20003055.html</td>\n",
       "      <td>Went to buy me a paper at the local news-stand...</td>\n",
       "    </tr>\n",
       "    <tr>\n",
       "      <th>ABBA</th>\n",
       "      <td>When All Is Said And Done</td>\n",
       "      <td>/a/abba/when+all+is+said+done_20003009.html</td>\n",
       "      <td>Here's to us one more toast and then we'll pay...</td>\n",
       "    </tr>\n",
       "    <tr>\n",
       "      <th>ABBA</th>\n",
       "      <td>When I Kissed The Teacher</td>\n",
       "      <td>/a/abba/when+i+kissed+the+teacher_20002628.html</td>\n",
       "      <td>Everybody screamed when I kissed the teacher  ...</td>\n",
       "    </tr>\n",
       "    <tr>\n",
       "      <th>ABBA</th>\n",
       "      <td>Why Did It Have To Be Me?</td>\n",
       "      <td>/a/abba/why+did+it+have+to+be+me_20002575.html</td>\n",
       "      <td>When you were lonely, you needed a man  \\nSome...</td>\n",
       "    </tr>\n",
       "    <tr>\n",
       "      <th>ABBA</th>\n",
       "      <td>You Owe Me One</td>\n",
       "      <td>/a/abba/you+owe+me+one_10001488.html</td>\n",
       "      <td>Frida Now there's a shadow falling over our fa...</td>\n",
       "    </tr>\n",
       "  </tbody>\n",
       "</table>\n",
       "<p>113 rows × 3 columns</p>\n",
       "</div>"
      ],
      "text/plain": [
       "                             song  \\\n",
       "artist                              \n",
       "ABBA        Ahe's My Kind Of Girl   \n",
       "ABBA             Andante, Andante   \n",
       "ABBA               As Good As New   \n",
       "ABBA                         Bang   \n",
       "ABBA             Bang-A-Boomerang   \n",
       "...                           ...   \n",
       "ABBA       What About Livingstone   \n",
       "ABBA    When All Is Said And Done   \n",
       "ABBA    When I Kissed The Teacher   \n",
       "ABBA    Why Did It Have To Be Me?   \n",
       "ABBA               You Owe Me One   \n",
       "\n",
       "                                                   link  \\\n",
       "artist                                                    \n",
       "ABBA         /a/abba/ahes+my+kind+of+girl_20598417.html   \n",
       "ABBA              /a/abba/andante+andante_20002708.html   \n",
       "ABBA               /a/abba/as+good+as+new_20003033.html   \n",
       "ABBA                         /a/abba/bang_20598415.html   \n",
       "ABBA             /a/abba/bang+a+boomerang_20002668.html   \n",
       "...                                                 ...   \n",
       "ABBA       /a/abba/what+about+livingstone_20003055.html   \n",
       "ABBA        /a/abba/when+all+is+said+done_20003009.html   \n",
       "ABBA    /a/abba/when+i+kissed+the+teacher_20002628.html   \n",
       "ABBA     /a/abba/why+did+it+have+to+be+me_20002575.html   \n",
       "ABBA               /a/abba/you+owe+me+one_10001488.html   \n",
       "\n",
       "                                                     text  \n",
       "artist                                                     \n",
       "ABBA    Look at her face, it's a wonderful face  \\nAnd...  \n",
       "ABBA    Take it easy with me, please  \\nTouch me gentl...  \n",
       "ABBA    I'll never know why I had to go  \\nWhy I had t...  \n",
       "ABBA    Making somebody happy is a question of give an...  \n",
       "ABBA    Making somebody happy is a question of give an...  \n",
       "...                                                   ...  \n",
       "ABBA    Went to buy me a paper at the local news-stand...  \n",
       "ABBA    Here's to us one more toast and then we'll pay...  \n",
       "ABBA    Everybody screamed when I kissed the teacher  ...  \n",
       "ABBA    When you were lonely, you needed a man  \\nSome...  \n",
       "ABBA    Frida Now there's a shadow falling over our fa...  \n",
       "\n",
       "[113 rows x 3 columns]"
      ]
     },
     "execution_count": 16,
     "metadata": {},
     "output_type": "execute_result"
    }
   ],
   "source": [
    "data1 = data.loc[\"ABBA\"]\n",
    "\n",
    "data1"
   ]
  },
  {
   "cell_type": "code",
   "execution_count": 28,
   "metadata": {},
   "outputs": [],
   "source": [
    "list = [\"see\", \"you\", \"me\"]"
   ]
  },
  {
   "cell_type": "code",
   "execution_count": 38,
   "metadata": {},
   "outputs": [
    {
     "data": {
      "text/plain": [
       "5"
      ]
     },
     "execution_count": 38,
     "metadata": {},
     "output_type": "execute_result"
    }
   ],
   "source": [
    "word_count = data1['text'].str.lower().str.contains(\"joy\")\n",
    "\n",
    "word_count_sum = word_count.sum()\n",
    "\n",
    "word_count_sum"
   ]
  },
  {
   "cell_type": "code",
   "execution_count": 30,
   "metadata": {},
   "outputs": [
    {
     "data": {
      "text/plain": [
       "1177"
      ]
     },
     "execution_count": 30,
     "metadata": {},
     "output_type": "execute_result"
    }
   ],
   "source": [
    "word_count_list = []\n",
    "\n",
    "for word in list:\n",
    "    word_count = data1['text'].str.lower().str.count(word).sum()\n",
    "    \n",
    "\n",
    "\n",
    "word_count"
   ]
  }
 ],
 "metadata": {
  "kernelspec": {
   "display_name": "Python 3",
   "language": "python",
   "name": "python3"
  },
  "language_info": {
   "codemirror_mode": {
    "name": "ipython",
    "version": 3
   },
   "file_extension": ".py",
   "mimetype": "text/x-python",
   "name": "python",
   "nbconvert_exporter": "python",
   "pygments_lexer": "ipython3",
   "version": "3.10.12"
  }
 },
 "nbformat": 4,
 "nbformat_minor": 2
}
